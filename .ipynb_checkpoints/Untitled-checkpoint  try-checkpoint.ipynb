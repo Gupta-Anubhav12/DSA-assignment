{
 "cells": [
  {
   "cell_type": "markdown",
   "metadata": {},
   "source": [
    "# DSA Assignment 2\n",
    "### Anubhav Gupta  IT 19124014\n",
    "### Submitted to Dr. Laltendu Behera\n",
    "Task: To analyse time complexity of 5 functions using asymptotic analysis \n",
    "#### The 5 functions are chosen according to O(1), O(n), O(n<sup>2</sup>), O(logn), O(nlogn) :\n",
    "Choice of Language is python for easy graphics utility \n"
   ]
  },
  {
   "cell_type": "markdown",
   "metadata": {},
   "source": [
    "### Method followed for analysis\n",
    "first I tried integrating c++ in jupyter, it worked but there was isses in graphing libraries so I switched to python as the assignment was language independent:\n",
    "Here I am employing libraries like <b>timeit</b> and <b>Random</b> for collecting time data and generating random inputs, for plotting I've used <b>Matpolib</b> <br>\n",
    "There is a driving code having a for loop that uses random function to drive the function defined in the snippet,\n",
    "that loop generates two lists that act as data given to graphing snippet that plots the graph accordingly"
   ]
  },
  {
   "cell_type": "markdown",
   "metadata": {},
   "source": [
    "<b> function 1  </b>:\n",
    "Here we define a function with <b>O(1)</b> and we shall plot it's graph to expect a straight line parallel to X axis\n"
   ]
  },
  {
   "cell_type": "code",
   "execution_count": 74,
   "metadata": {
    "scrolled": true
   },
   "outputs": [
    {
     "data": {
      "image/png": "[encoded data removed]",
      "text/plain": [
       "<Figure size 432x288 with 1 Axes>"
      ]
     },
     "metadata": {
      "needs_background": "light"
     },
     "output_type": "display_data"
    }
   ],
   "source": [
    "# import time\n",
    "import timeit\n",
    "\n",
    "import random\n",
    "import matplotlib\n",
    "import matplotlib.pyplot as plt\n",
    "import numpy as np\n",
    "\n",
    "code_to_test = \"\"\"\n",
    "def area(n):\n",
    "    \n",
    "    area = n*n;\n",
    "    \"\"\"\n",
    "          \n",
    "        \n",
    "\n",
    "    \n",
    "time =[]\n",
    "value = []\n",
    "for x in range(0,100):\n",
    "    n = random.randint(0,500)\n",
    "    \n",
    "    elapsed_time = timeit.timeit(code_to_test, number=1000)/1000\n",
    "#     time.append(\"{0:.3f}\".format(elapsed_time))\n",
    "    time.append(elapsed_time)\n",
    "    value.append(x)\n",
    "    \n",
    "\n",
    "#     t =  area(n)\n",
    "#     time.append(t)\n",
    "\n",
    "\n",
    "# print(time)\n",
    "plt.plot(value,time) \n",
    "plt.xlabel('N moves from 1 - 100') \n",
    "plt.ylabel('y - axis - Time') \n",
    "plt.title('Order O(1)') \n",
    "plt.show() \n",
    "\n",
    "# print(\"\\nTime to sum of 1 to \",n,\" and required time to calculate is :\",sum_of_n_numbers(n))"
   ]
  },
  {
   "cell_type": "markdown",
   "metadata": {},
   "source": [
    "#### analysing the situation\n",
    "In the above case we've chosen a function that can be used to find the area of a square and clearly has time complexity as <b>O(1)</b> <br>\n"
   ]
  },
  {
   "cell_type": "markdown",
   "metadata": {},
   "source": [
    "<b>Function 2 </b>:\n",
    "Here we define a function with <b>O(n)</b> and we shall plot it's graph to expect a linear growth \n"
   ]
  },
  {
   "cell_type": "code",
   "execution_count": 1,
   "metadata": {},
   "outputs": [
    {
     "data": {
      "image/png": "[encoded data removed]",
      "text/plain": [
       "<Figure size 432x288 with 1 Axes>"
      ]
     },
     "metadata": {
      "needs_background": "light"
     },
     "output_type": "display_data"
    }
   ],
   "source": [
    "# import time\n",
    "import timeit\n",
    "\n",
    "import random\n",
    "import matplotlib\n",
    "import matplotlib.pyplot as plt\n",
    "import numpy as np\n",
    "\n",
    "code_to_test = \"\"\"\n",
    "def array(n):\n",
    "    list = []\n",
    "    for i in range(n):\n",
    "        for j in range(n):\n",
    "            x[i][j]=random.randint(0,500)\n",
    "    \"\"\"\n",
    "          \n",
    "        \n",
    "\n",
    "    \n",
    "time =[]\n",
    "value = []\n",
    "for x in range(0,100):\n",
    "    n = random.randrange(0,500000000000000)\n",
    "    \n",
    "    elapsed_time = timeit.timeit(code_to_test, number=1000)/1000\n",
    "#     time.append(\"{0:.3f}\".format(elapsed_time))\n",
    "    time.append(elapsed_time)\n",
    "    value.append(n)\n",
    "    \n",
    "\n",
    "#     t =  area(n)\n",
    "#     time.append(t)\n",
    "\n",
    "# print(value, time)\n",
    "colors = np.random.rand(100)\n",
    "# area = (30 * 2)**2  # 0 to 15 point radii\n",
    "\n",
    "plt.scatter(value, time, c=colors, alpha=0.5)\n",
    "plt.show()\n",
    "\n",
    "\n",
    "\n",
    "\n",
    "# plt.plot(value,time) \n",
    "# plt.xlabel('N moves from 1 - 100') \n",
    "# plt.ylabel('y - axis - Time') \n",
    "# plt.title('Order O(1)') \n",
    "# plt.show() \n",
    "\n"
   ]
  },
  {
   "cell_type": "code",
   "execution_count": null,
   "metadata": {},
   "outputs": [],
   "source": []
  },
  {
   "cell_type": "code",
   "execution_count": null,
   "metadata": {},
   "outputs": [],
   "source": []
  },
  {
   "cell_type": "code",
   "execution_count": null,
   "metadata": {},
   "outputs": [],
   "source": []
  },
  {
   "cell_type": "code",
   "execution_count": null,
   "metadata": {},
   "outputs": [],
   "source": []
  },
  {
   "cell_type": "code",
   "execution_count": null,
   "metadata": {},
   "outputs": [],
   "source": []
  }
 ],
 "metadata": {
  "kernelspec": {
   "display_name": "Python 3",
   "language": "python",
   "name": "python3"
  },
  "language_info": {
   "codemirror_mode": {
    "name": "ipython",
    "version": 3
   },
   "file_extension": ".py",
   "mimetype": "text/x-python",
   "name": "python",
   "nbconvert_exporter": "python",
   "pygments_lexer": "ipython3",
   "version": "3.8.2"
  }
 },
 "nbformat": 4,
 "nbformat_minor": 4
}
